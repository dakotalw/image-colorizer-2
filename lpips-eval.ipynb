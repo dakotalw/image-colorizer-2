{
 "cells": [
  {
   "attachments": {},
   "cell_type": "markdown",
   "metadata": {},
   "source": [
    "## LPIPS evaluator"
   ]
  },
  {
   "cell_type": "code",
   "execution_count": 4,
   "metadata": {},
   "outputs": [],
   "source": [
    "from PIL import Image\n",
    "import torch\n",
    "from lpips import LPIPS\n",
    "import os\n",
    "from torchvision import transforms"
   ]
  },
  {
   "cell_type": "code",
   "execution_count": 12,
   "metadata": {},
   "outputs": [
    {
     "name": "stdout",
     "output_type": "stream",
     "text": [
      "Setting up [LPIPS] perceptual loss: trunk [vgg], v[0.1], spatial [off]\n"
     ]
    },
    {
     "name": "stderr",
     "output_type": "stream",
     "text": [
      "/opt/anaconda3/lib/python3.8/site-packages/torchvision/models/_utils.py:208: UserWarning: The parameter 'pretrained' is deprecated since 0.13 and will be removed in 0.15, please use 'weights' instead.\n",
      "  warnings.warn(\n",
      "/opt/anaconda3/lib/python3.8/site-packages/torchvision/models/_utils.py:223: UserWarning: Arguments other than a weight enum or `None` for 'weights' are deprecated since 0.13 and will be removed in 0.15. The current behavior is equivalent to passing `weights=VGG16_Weights.IMAGENET1K_V1`. You can also use `weights=VGG16_Weights.DEFAULT` to get the most up-to-date weights.\n",
      "  warnings.warn(msg)\n"
     ]
    },
    {
     "name": "stdout",
     "output_type": "stream",
     "text": [
      "Loading model from: /opt/anaconda3/lib/python3.8/site-packages/lpips/weights/v0.1/vgg.pth\n",
      "LPIPS similarity score for 015.jpg: 0.21473148465156555\n",
      "LPIPS similarity score for 010.jpg: 0.33345696330070496\n",
      "LPIPS similarity score for 011.jpg: 0.19953486323356628\n",
      "LPIPS similarity score for 013.jpg: 0.30204319953918457\n",
      "LPIPS similarity score for 006.jpg: 0.20248515903949738\n",
      "LPIPS similarity score for 012.jpg: 0.19049637019634247\n",
      "LPIPS similarity score for 077.jpg: 0.15362891554832458\n",
      "LPIPS similarity score for 022.jpg: 0.2824576199054718\n",
      "LPIPS similarity score for 035.jpg: 0.22773966193199158\n",
      "LPIPS similarity score for 009.jpg: 0.21036416292190552\n"
     ]
    }
   ],
   "source": [
    "# Load the pre-trained LPIPS model\n",
    "lpips_model = LPIPS(net='vgg')\n",
    "scores_cnn = {}\n",
    "# Specify the paths to the two folders containing the images\n",
    "folder1 = '/Users/dakotawilson/Desktop/image-colorizer-2/evaluated-photos/in/'  # Replace with the path to your first folder\n",
    "folder2 = '/Users/dakotawilson/Desktop/image-colorizer-2/evaluated-photos/out_cnn/'  # Replace with the path to your second folder\n",
    "\n",
    "# Iterate through the images in the folders\n",
    "for filename in os.listdir(folder1):\n",
    "    # Check if the file is an image file\n",
    "    if filename.endswith(\".jpg\") or filename.endswith(\".png\") or filename.endswith(\".jpeg\"):\n",
    "        # Load the images from the two folders\n",
    "        image1_path = os.path.join(folder1, filename)\n",
    "        image2_path = os.path.join(folder2, filename)\n",
    "        image1 = Image.open(image1_path)\n",
    "        image2 = Image.open(image2_path)\n",
    "\n",
    "        # Convert PIL images to PyTorch tensors\n",
    "        image1_tensor = transforms.ToTensor()(image1)\n",
    "        image2_tensor = transforms.ToTensor()(image2)\n",
    "\n",
    "        # Compute the LPIPS similarity score\n",
    "        lpips_score = lpips_model(image1_tensor, image2_tensor)\n",
    "        scores_cnn[filename] = lpips_score\n",
    "        # Print the LPIPS similarity score for the current pair of images\n",
    "        print(f'LPIPS similarity score for {filename}: {lpips_score.item()}')\n"
   ]
  },
  {
   "cell_type": "code",
   "execution_count": 24,
   "metadata": {},
   "outputs": [
    {
     "name": "stdout",
     "output_type": "stream",
     "text": [
      "Setting up [LPIPS] perceptual loss: trunk [vgg], v[0.1], spatial [off]\n",
      "Loading model from: /opt/anaconda3/lib/python3.8/site-packages/lpips/weights/v0.1/vgg.pth\n",
      "LPIPS similarity score for 015.jpg: 0.30298444628715515\n",
      "LPIPS similarity score for 010.jpg: 0.39932486414909363\n",
      "LPIPS similarity score for 011.jpg: 0.19932425022125244\n",
      "LPIPS similarity score for 013.jpg: 0.47096702456474304\n",
      "LPIPS similarity score for 006.jpg: 0.2952452003955841\n",
      "LPIPS similarity score for 012.jpg: 0.23933234810829163\n",
      "LPIPS similarity score for 077.jpg: 0.15291525423526764\n",
      "LPIPS similarity score for 022.jpg: 0.16844573616981506\n",
      "LPIPS similarity score for 035.jpg: 0.15530145168304443\n",
      "LPIPS similarity score for 009.jpg: 0.15886403620243073\n"
     ]
    }
   ],
   "source": [
    "# Load the pre-trained LPIPS model\n",
    "lpips_model = LPIPS(net='vgg')\n",
    "scores_coltran = {}\n",
    "# Specify the paths to the two folders containing the images\n",
    "folder1 = '/Users/dakotawilson/Desktop/image-colorizer-2/evaluated-photos/in/'  # Replace with the path to your first folder\n",
    "folder2 = '/Users/dakotawilson/Desktop/image-colorizer-2/evaluated-photos/out_coltran/'  # Replace with the path to your second folder\n",
    "\n",
    "# Iterate through the images in the folders\n",
    "for filename in os.listdir(folder1):\n",
    "    # Check if the file is an image file\n",
    "    if filename.endswith(\".jpg\") or filename.endswith(\".png\") or filename.endswith(\".jpeg\"):\n",
    "        # Load the images from the two folders\n",
    "        image1_path = os.path.join(folder1, filename)\n",
    "        image2_path = os.path.join(folder2, filename)\n",
    "        image1 = Image.open(image1_path)\n",
    "        image2 = Image.open(image2_path)\n",
    "        image2 = image2.convert('RGB')\n",
    "        image1 = image1.resize([224,224])\n",
    "        image2 = image2.resize([224,224])\n",
    "        # Convert PIL images to PyTorch tensors\n",
    "        image1_tensor = transforms.ToTensor()(image1)\n",
    "        image2_tensor = transforms.ToTensor()(image2)\n",
    "        # Compute the LPIPS similarity score\n",
    "        lpips_score = lpips_model(image1_tensor, image2_tensor)\n",
    "        scores_coltran[filename] = lpips_score\n",
    "        # Print the LPIPS similarity score for the current pair of images\n",
    "        print(f'LPIPS similarity score for {filename}: {lpips_score.item()}')\n"
   ]
  },
  {
   "cell_type": "code",
   "execution_count": 28,
   "metadata": {},
   "outputs": [
    {
     "name": "stdout",
     "output_type": "stream",
     "text": [
      "Mean of dictionary values: tensor([[[[0.2543]]]], grad_fn=<DivBackward0>)\n"
     ]
    }
   ],
   "source": [
    "values = list(scores_coltran.values())\n",
    "\n",
    "# Compute the sum of the values\n",
    "total = sum(values)\n",
    "\n",
    "# Compute the mean\n",
    "mean = total / len(values)\n",
    "\n",
    "print(\"Mean of dictionary values:\", mean)"
   ]
  },
  {
   "cell_type": "code",
   "execution_count": 29,
   "metadata": {},
   "outputs": [
    {
     "name": "stdout",
     "output_type": "stream",
     "text": [
      "Mean of dictionary values: tensor([[[[0.2317]]]], grad_fn=<DivBackward0>)\n"
     ]
    }
   ],
   "source": [
    "values = list(scores_cnn.values())\n",
    "\n",
    "# Compute the sum of the values\n",
    "total = sum(values)\n",
    "\n",
    "# Compute the mean\n",
    "mean = total / len(values)\n",
    "\n",
    "print(\"Mean of dictionary values:\", mean)"
   ]
  }
 ],
 "metadata": {
  "kernelspec": {
   "display_name": "base",
   "language": "python",
   "name": "python3"
  },
  "language_info": {
   "codemirror_mode": {
    "name": "ipython",
    "version": 3
   },
   "file_extension": ".py",
   "mimetype": "text/x-python",
   "name": "python",
   "nbconvert_exporter": "python",
   "pygments_lexer": "ipython3",
   "version": "3.8.8"
  },
  "orig_nbformat": 4
 },
 "nbformat": 4,
 "nbformat_minor": 2
}
